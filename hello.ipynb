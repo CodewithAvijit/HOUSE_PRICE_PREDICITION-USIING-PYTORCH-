{
 "cells": [
  {
   "cell_type": "code",
   "execution_count": null,
   "id": "572461e3",
   "metadata": {},
   "outputs": [],
   "source": []
  },
  {
   "cell_type": "code",
   "execution_count": null,
   "id": "b21c8e6e",
   "metadata": {},
   "outputs": [],
   "source": []
  }
 ],
 "metadata": {
  "language_info": {
   "name": "python"
  }
 },
 "nbformat": 4,
 "nbformat_minor": 5
}
